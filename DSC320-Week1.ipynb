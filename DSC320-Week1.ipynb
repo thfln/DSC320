{
 "cells": [
  {
   "cell_type": "markdown",
   "id": "99e39d1a-2ced-4c82-a55c-25cec1051225",
   "metadata": {},
   "source": [
    "# DSC320 - Week 1 - Exercise 1.2"
   ]
  },
  {
   "cell_type": "markdown",
   "id": "c7697b0e-1128-469b-8fd4-e72349941d47",
   "metadata": {},
   "source": [
    "## Root Mean Square Error (RMSE)..."
   ]
  },
  {
   "cell_type": "markdown",
   "id": "7cf22b30-bcdc-4092-9ff8-84ef2e842e26",
   "metadata": {},
   "source": [
    "**1a. Create a function that takes in two numerical arrays of the same length and calculates the RMSE between them.**"
   ]
  },
  {
   "cell_type": "markdown",
   "id": "a313dded-7249-4416-9aed-323a1ed0f42f",
   "metadata": {},
   "source": [
    "1. Import the necessary packages"
   ]
  },
  {
   "cell_type": "code",
   "execution_count": 1,
   "id": "b97edcde-482c-46fe-bed9-c6651bf0c6e4",
   "metadata": {},
   "outputs": [],
   "source": [
    "import numpy as np"
   ]
  },
  {
   "cell_type": "markdown",
   "id": "eb7ef7fa-286f-45e1-99b2-24b46373bfae",
   "metadata": {},
   "source": [
    "2. Define the function that calculates the root mean square error (RMSE) between the actual and predicted values"
   ]
  },
  {
   "cell_type": "code",
   "execution_count": 2,
   "id": "c8eed0ed-01ad-48a4-94c6-2cdbc6555322",
   "metadata": {},
   "outputs": [],
   "source": [
    "def calc_rmse(actual, predicted):\n",
    "    differences = actual - predicted\n",
    "    mean_square_error = np.mean(np.square(differences))\n",
    "    rmse = np.sqrt(mean_square_error)\n",
    "    return rmse"
   ]
  },
  {
   "cell_type": "markdown",
   "id": "e5732b31-80b9-41a8-9840-fab6dd78d2f3",
   "metadata": {},
   "source": [
    "3. Next, define a user input prompt for the user-provided array of values. Additionally, an exception can be built that notifies the user if the input was invalid"
   ]
  },
  {
   "cell_type": "code",
   "execution_count": 3,
   "id": "b494bd56-fde5-443a-951e-fbad913d1dc1",
   "metadata": {},
   "outputs": [],
   "source": [
    "def input_array(prompt):\n",
    "    while True:\n",
    "      user_input = input(prompt)\n",
    "      try:\n",
    "        num_list = [float(num) for num in user_input.split(',')]\n",
    "        return np.array(num_list)\n",
    "      except ValueError:\n",
    "        print(\"Invalid input. Please enter a comma-separated list of numbers.\")"
   ]
  },
  {
   "cell_type": "markdown",
   "id": "d2ae2fd7-9e85-444d-a9ca-ac4338a09e07",
   "metadata": {},
   "source": [
    "4. Configure the input display that will be shown to the user"
   ]
  },
  {
   "cell_type": "code",
   "execution_count": 4,
   "id": "016dc735-5da6-4408-abdc-4bec1926539a",
   "metadata": {},
   "outputs": [
    {
     "name": "stdin",
     "output_type": "stream",
     "text": [
      "Enter the actual values (comma-separated):  1,2,3,4,5\n",
      "Enter the predicted values (comma-separated):  1.1,2.2,3.3,4.4,5.5\n"
     ]
    }
   ],
   "source": [
    "actual_values = input_array(\"Enter the actual values (comma-separated): \")\n",
    "predicted_values = input_array(\"Enter the predicted values (comma-separated): \")"
   ]
  },
  {
   "cell_type": "markdown",
   "id": "7ed990ee-c960-469f-89ac-53d84fb555c7",
   "metadata": {},
   "source": [
    "5. Lastly, use an 'if statement' to ensure that the user input for the respective values are the same in length. If they are not, display an error to the user; if they are, return the RMSE for the data set"
   ]
  },
  {
   "cell_type": "code",
   "execution_count": 5,
   "id": "9c88490b-5209-40b7-9799-71f4a4cd6b1e",
   "metadata": {},
   "outputs": [
    {
     "name": "stdout",
     "output_type": "stream",
     "text": [
      "Root Mean Square Error (RMSE): 0.3316624790355401\n"
     ]
    }
   ],
   "source": [
    "if len(actual_values) != len(predicted_values):\n",
    "    print(\"Error: The number of actual and predicted values must be the same.\")\n",
    "else:\n",
    "    rmse = calc_rmse(actual_values, predicted_values)\n",
    "    print(f\"Root Mean Square Error (RMSE): {rmse}\")"
   ]
  },
  {
   "cell_type": "markdown",
   "id": "27732d19-f935-426e-b53d-960f4a1bfba4",
   "metadata": {},
   "source": [
    "***"
   ]
  },
  {
   "cell_type": "markdown",
   "id": "837f4b00-e30d-46e5-bb0d-8d5afb4d1304",
   "metadata": {},
   "source": [
    "**1b. Apply the above function to the columns \"sale_price\" and \"sale_price_pred\" in the file housing_data.csv and report the result. The sale price has been predicted from the square footage of the house.**"
   ]
  },
  {
   "cell_type": "markdown",
   "id": "c6bb4ffe-f204-4f5b-a3bb-d926eed6aaf1",
   "metadata": {},
   "source": [
    "1. Import the necessary packages"
   ]
  },
  {
   "cell_type": "code",
   "execution_count": 6,
   "id": "4eedc813-612b-46d3-80b2-7a8bf978c84c",
   "metadata": {},
   "outputs": [],
   "source": [
    "import numpy as np\n",
    "import pandas as pd"
   ]
  },
  {
   "cell_type": "markdown",
   "id": "be822bd0-e8b7-4e65-9eba-3f9c06911952",
   "metadata": {},
   "source": [
    "2. Define the function that calculates the root mean square error (RMSE) between the actual and predicted values"
   ]
  },
  {
   "cell_type": "code",
   "execution_count": 7,
   "id": "e3fa65a2-87a9-4cb6-aa5c-3712eb546d88",
   "metadata": {},
   "outputs": [],
   "source": [
    "def calc_rmse(actual, predicted):\n",
    "    differences = actual - predicted\n",
    "    mean_square_error = np.mean(np.square(differences))\n",
    "    rmse = np.sqrt(mean_square_error)\n",
    "    return rmse"
   ]
  },
  {
   "cell_type": "markdown",
   "id": "6031f3f6-9b81-4dce-be7c-25dd8c760bf5",
   "metadata": {},
   "source": [
    "3. Read the values from the .csv file and return the data as an array"
   ]
  },
  {
   "cell_type": "code",
   "execution_count": 8,
   "id": "17edc943-b68b-4f54-b4fd-bed60937055d",
   "metadata": {},
   "outputs": [],
   "source": [
    "def read_data(filename):\n",
    "    df = pd.read_csv(r\"C:\\Users\\thefli0\\Downloads\\week1data\\week1data\\housing_data.csv\")\n",
    "    actual = df['sale_price'].values\n",
    "    predicted = df['sale_price_pred'].values\n",
    "    return actual, predicted"
   ]
  },
  {
   "cell_type": "markdown",
   "id": "435f49b2-8e8b-4dfe-8e6b-ead5809ffc3f",
   "metadata": {},
   "source": [
    "4. Define the file name and the values from the file"
   ]
  },
  {
   "cell_type": "code",
   "execution_count": 9,
   "id": "f95ccca2-c18e-49d8-a9bd-12e1d8ca46a3",
   "metadata": {},
   "outputs": [],
   "source": [
    "filename = 'housing_data.csv'\n",
    "actual_values, predicted_values = read_data(filename)"
   ]
  },
  {
   "cell_type": "markdown",
   "id": "21fd1596-dd81-4976-9eda-6bb135894437",
   "metadata": {},
   "source": [
    "5. Finally, calculate the RMSE based on the values in the file and display the results"
   ]
  },
  {
   "cell_type": "code",
   "execution_count": 10,
   "id": "ee6606b9-f12e-4132-83e4-0d53515d824b",
   "metadata": {},
   "outputs": [
    {
     "name": "stdout",
     "output_type": "stream",
     "text": [
      "Root Mean Square Error (RMSE): 55064.0688338987\n"
     ]
    }
   ],
   "source": [
    "rmse = calc_rmse(actual_values, predicted_values)\n",
    "print(f\"Root Mean Square Error (RMSE): {rmse}\")"
   ]
  },
  {
   "cell_type": "markdown",
   "id": "d6f8048c-bbf3-4f6d-b744-2199bf1d3257",
   "metadata": {},
   "source": [
    "***"
   ]
  },
  {
   "cell_type": "markdown",
   "id": "65441bf2-ea32-4fb4-aa49-df6bbc7f2230",
   "metadata": {},
   "source": [
    "## Mean Absolute Error (MAE)"
   ]
  },
  {
   "cell_type": "markdown",
   "id": "f3357314-0088-4774-b295-73f07ae9ac7d",
   "metadata": {},
   "source": [
    "**2a. Create a function that takes in two numerical arrays of the same length and calculates the MAE between them.**"
   ]
  },
  {
   "cell_type": "markdown",
   "id": "1e0f5bc5-9895-4e27-9794-5c0dffd4d5d6",
   "metadata": {},
   "source": [
    "1. Import the necessary packages"
   ]
  },
  {
   "cell_type": "code",
   "execution_count": 11,
   "id": "d189488e-bd20-4937-b1db-5015e5606ef5",
   "metadata": {},
   "outputs": [],
   "source": [
    "import numpy as np"
   ]
  },
  {
   "cell_type": "markdown",
   "id": "fdaf65a5-5408-4cf2-8054-dd84e0273fec",
   "metadata": {},
   "source": [
    "2. Define the function that calculates the mean absolute error (MAE) between the actual and predicted values"
   ]
  },
  {
   "cell_type": "code",
   "execution_count": 12,
   "id": "a010c6b1-5a38-4faa-96e2-6a54e774704a",
   "metadata": {},
   "outputs": [],
   "source": [
    "def calc_mae(actual, predicted):\n",
    "    absolute_difference = np.abs(actual - predicted)\n",
    "    mae = np.mean(absolute_difference)\n",
    "    return mae"
   ]
  },
  {
   "cell_type": "markdown",
   "id": "895f9ea9-4609-4186-8b1c-0976d02e6d0c",
   "metadata": {},
   "source": [
    "3. Next, define a user input prompt for the user-provided array of values. Additionally, an exception can be built that notifies the user if the input was invalid"
   ]
  },
  {
   "cell_type": "code",
   "execution_count": 13,
   "id": "1e9656ee-cbcd-4c61-93fa-873d7bc05cd1",
   "metadata": {},
   "outputs": [],
   "source": [
    "def input_array(prompt):\n",
    "    while True:\n",
    "      user_input = input(prompt)\n",
    "      try:\n",
    "        num_list = [float(num) for num in user_input.split(',')]\n",
    "        return np.array(num_list)\n",
    "      except ValueError:\n",
    "        print(\"Invalid input. Please enter a comma-separated list of numbers.\")"
   ]
  },
  {
   "cell_type": "markdown",
   "id": "93e228f2-bac3-40e4-833a-39279f6dbbe5",
   "metadata": {},
   "source": [
    "4. Configure the input display that will be shown to the user"
   ]
  },
  {
   "cell_type": "code",
   "execution_count": 14,
   "id": "857f42cd-0965-4f25-ab59-9efdbd7ece59",
   "metadata": {},
   "outputs": [
    {
     "name": "stdin",
     "output_type": "stream",
     "text": [
      "Enter the actual values (comma-separated):  1,2,3,4,5\n",
      "Enter the predicted values (comma-separated):  1.1,2.2,3.3,4.4,5.5\n"
     ]
    }
   ],
   "source": [
    "actual_values = input_array(\"Enter the actual values (comma-separated): \")\n",
    "predicted_values = input_array(\"Enter the predicted values (comma-separated): \")"
   ]
  },
  {
   "cell_type": "markdown",
   "id": "2b7bb158-940d-4ff1-9fcd-03d5c440b56c",
   "metadata": {},
   "source": [
    "5. Lastly, use an 'if statement' to ensure that the user input for the respective values are the same in length. If they are not, display an error to the user; if they are, return the MAE for the data set"
   ]
  },
  {
   "cell_type": "code",
   "execution_count": 15,
   "id": "6f3e9f9c-b243-4359-b7f4-776f489f82bf",
   "metadata": {},
   "outputs": [
    {
     "name": "stdout",
     "output_type": "stream",
     "text": [
      "Mean Absolute Error (MAE): 0.3000000000000001\n"
     ]
    }
   ],
   "source": [
    "if len(actual_values) != len(predicted_values):\n",
    "    print(\"Error: The number of actual and predicted values must be the same.\")\n",
    "else:\n",
    "    mae = calc_mae(actual_values, predicted_values)\n",
    "    print(f\"Mean Absolute Error (MAE): {mae}\")"
   ]
  },
  {
   "cell_type": "markdown",
   "id": "84bb5a73-2afd-4613-abc2-3d5f56ac0064",
   "metadata": {},
   "source": [
    "***"
   ]
  },
  {
   "cell_type": "markdown",
   "id": "b6fcb6b5-3ce3-4e95-88d8-1415f0616af5",
   "metadata": {},
   "source": [
    "**1b. Apply the above function to the columns \"sale_price\" and \"sale_price_pred\" in the file housing_data.csv and report the result. The sale price has been predicted from the square footage of the house.**"
   ]
  },
  {
   "cell_type": "markdown",
   "id": "68fd6dbb-894c-4fc6-b151-6e964f32a411",
   "metadata": {},
   "source": [
    "1. Import the necessary packages"
   ]
  },
  {
   "cell_type": "code",
   "execution_count": 16,
   "id": "2dbbead1-9ad6-4843-afa5-c9abd165afcb",
   "metadata": {},
   "outputs": [],
   "source": [
    "import numpy as np\n",
    "import pandas as pd"
   ]
  },
  {
   "cell_type": "markdown",
   "id": "23d03283-e11a-4736-8d65-ff3e1fd2c28c",
   "metadata": {},
   "source": [
    "2. Define the function that calculates the mean absolute error (MAE) between the actual and predicted value"
   ]
  },
  {
   "cell_type": "code",
   "execution_count": 17,
   "id": "7be6a3ca-9d3f-4960-93e3-28e4558428fc",
   "metadata": {},
   "outputs": [],
   "source": [
    "def calc_mae(actual, predicted):\n",
    "    absolute_difference = np.abs(actual - predicted)\n",
    "    mae = np.mean(absolute_difference)\n",
    "    return mae"
   ]
  },
  {
   "cell_type": "markdown",
   "id": "55aa4d50-c387-4dba-84e9-1df021e29e6d",
   "metadata": {},
   "source": [
    "3. Read the values from the .csv file and return the data as an array"
   ]
  },
  {
   "cell_type": "code",
   "execution_count": 18,
   "id": "ac168bd6-4694-4892-825d-b0675b51f642",
   "metadata": {},
   "outputs": [],
   "source": [
    "def read_data(filename):\n",
    "    df = pd.read_csv(r\"C:\\Users\\thefli0\\Downloads\\week1data\\week1data\\housing_data.csv\")\n",
    "    actual = df['sale_price'].values\n",
    "    predicted = df['sale_price_pred'].values\n",
    "    return actual, predicted"
   ]
  },
  {
   "cell_type": "markdown",
   "id": "3cce3260-bb2b-4121-8573-90f12d5039b2",
   "metadata": {},
   "source": [
    "4. Define the file name and the values from the file"
   ]
  },
  {
   "cell_type": "code",
   "execution_count": 19,
   "id": "93042417-824e-4d96-9f81-d76f4b9209ba",
   "metadata": {},
   "outputs": [],
   "source": [
    "filename = 'housing_data.csv'\n",
    "actual_values, predicted_values = read_data(filename)"
   ]
  },
  {
   "cell_type": "markdown",
   "id": "a91c6998-241c-487a-a4d8-53989b43ebf5",
   "metadata": {},
   "source": [
    "5. Finally, calculate the MAE based on the values in the file and display the results"
   ]
  },
  {
   "cell_type": "code",
   "execution_count": 20,
   "id": "2192b218-3c37-4a66-8509-3ceb202b5f1c",
   "metadata": {},
   "outputs": [
    {
     "name": "stdout",
     "output_type": "stream",
     "text": [
      "Mean Absolute Error (MAE): 37438.68916270548\n"
     ]
    }
   ],
   "source": [
    "mae = calc_mae(actual_values, predicted_values)\n",
    "print(f\"Mean Absolute Error (MAE): {mae}\")"
   ]
  },
  {
   "cell_type": "markdown",
   "id": "03e391d5-58d9-406e-9d7f-bc89b5600500",
   "metadata": {},
   "source": [
    "***"
   ]
  },
  {
   "cell_type": "markdown",
   "id": "8d45b17a-9ec8-4d23-8451-66a777b3a38b",
   "metadata": {},
   "source": [
    "## Accuracy"
   ]
  },
  {
   "cell_type": "markdown",
   "id": "be338c14-962a-490c-9c29-c86deff2f17b",
   "metadata": {},
   "source": [
    "**3a. Build a function that takes in two binary arrays of the same length and calculates the prediction accuracy between them**"
   ]
  },
  {
   "cell_type": "markdown",
   "id": "cec70a9e-37ee-460c-906a-221f8d494a66",
   "metadata": {},
   "source": [
    "1. Import the necessary packages"
   ]
  },
  {
   "cell_type": "code",
   "execution_count": 21,
   "id": "0402ff65-4a87-4833-b6a5-f7768e591fc8",
   "metadata": {},
   "outputs": [],
   "source": [
    "import numpy as np"
   ]
  },
  {
   "cell_type": "markdown",
   "id": "039e133e-2d11-4924-9ee3-d7348ed01c04",
   "metadata": {},
   "source": [
    "2. Define the function that calculates the accuracy between the two binary arrays of the same length"
   ]
  },
  {
   "cell_type": "code",
   "execution_count": 22,
   "id": "d066d1bd-e932-4b2a-9475-a0d3ff37bc4a",
   "metadata": {},
   "outputs": [],
   "source": [
    "def calc_accuracy(actual, predicted):\n",
    "    correct_prediction = np.sum(actual == predicted)\n",
    "    accuracy = correct_prediction / len(actual)\n",
    "    return accuracy"
   ]
  },
  {
   "cell_type": "markdown",
   "id": "ee0d7910-d7dc-4631-a1b3-1dfb8bad4fa0",
   "metadata": {},
   "source": [
    "3. Next, define a user input prompt for the user-provided, binary arrays of values. Additionally, an exception can be built that notifies the user if the input was invalid"
   ]
  },
  {
   "cell_type": "code",
   "execution_count": 23,
   "id": "6e9e7b65-e179-4975-88c0-916e38dd5514",
   "metadata": {},
   "outputs": [],
   "source": [
    "def input_binary_array(prompt):\n",
    "    while True:\n",
    "      user_input = input(prompt)\n",
    "      str_values = user_input.split(',')\n",
    "      if all(char.strip() in '01' for char in str_values) and str_values:\n",
    "        binary_values = np.array([int(char.strip()) for char in str_values])\n",
    "        return binary_values\n",
    "      else:\n",
    "        print(\"Invalid input. Please enter binary values separated by commas.\")"
   ]
  },
  {
   "cell_type": "markdown",
   "id": "e88890e0-1234-4c66-b523-7654ba2c282c",
   "metadata": {},
   "source": [
    "4. Configure the input display that will be shown to the user"
   ]
  },
  {
   "cell_type": "code",
   "execution_count": 24,
   "id": "5003cc9b-29d8-46d1-bdee-ae252a0dbac3",
   "metadata": {},
   "outputs": [
    {
     "name": "stdin",
     "output_type": "stream",
     "text": [
      "Enter the actual binary values (comma-separated):  1,1,0,0,0\n",
      "Enter the predicted binary values (comma-separated):  0,1,0,0,0\n"
     ]
    }
   ],
   "source": [
    "actual_values = input_binary_array(\"Enter the actual binary values (comma-separated): \")\n",
    "predicted_values = input_binary_array(\"Enter the predicted binary values (comma-separated): \")"
   ]
  },
  {
   "cell_type": "markdown",
   "id": "2c72e854-087f-4c35-b34c-f3bea5e46379",
   "metadata": {},
   "source": [
    "5. Lastly, use an 'if statement' to ensure that the user input for the respective values are the same in length. If they are not, display an error to the user; if they are, return the prediction accuracy for the data set"
   ]
  },
  {
   "cell_type": "code",
   "execution_count": 25,
   "id": "16b3f93e-e219-4e7d-b43c-7b0e8e4266e0",
   "metadata": {},
   "outputs": [
    {
     "name": "stdout",
     "output_type": "stream",
     "text": [
      "The prediction accuracy between these arrays is: 0.80\n"
     ]
    }
   ],
   "source": [
    "if len(actual_values) != len(predicted_values):\n",
    "    print(\"Error: The number of actual and predicted arrays must be the same.\")\n",
    "else:\n",
    "    accuracy = calc_accuracy(actual_values, predicted_values)\n",
    "    print(f\"The prediction accuracy between these arrays is: {accuracy:.2f}\")"
   ]
  },
  {
   "cell_type": "markdown",
   "id": "676db4d0-ad23-44c4-a1c0-69f015f94b48",
   "metadata": {},
   "source": [
    "***"
   ]
  },
  {
   "cell_type": "markdown",
   "id": "6c79a1f6-5ca8-4f55-8892-47312b13faf5",
   "metadata": {},
   "source": [
    "**3b.  Apply the above function to the columns \"actual\" and \"predicted\" in the file mushroom_data.csv and report the result. The columns in this data set indicate if the muchroom is poinsonous with a \"p\" and If it is edible with an \"e\".**\n"
   ]
  },
  {
   "cell_type": "markdown",
   "id": "7c58a920-f1dd-4013-b5d3-1a9f1d4d2503",
   "metadata": {},
   "source": [
    "1. Import the necessary packages"
   ]
  },
  {
   "cell_type": "code",
   "execution_count": 26,
   "id": "503871bd-8811-4262-9c46-c85ee7b39876",
   "metadata": {},
   "outputs": [],
   "source": [
    "import numpy as np\n",
    "import pandas as pd"
   ]
  },
  {
   "cell_type": "markdown",
   "id": "72f08af5-d7ad-493a-b499-7d3a3a6ecc3e",
   "metadata": {},
   "source": [
    "2. Define the function that calculates the prediction accuracy two binary arrays of the same length"
   ]
  },
  {
   "cell_type": "code",
   "execution_count": 27,
   "id": "335b45a3-891d-4a2e-9dab-8cfe048c182f",
   "metadata": {},
   "outputs": [],
   "source": [
    "def calc_accuracy(actual, predicted):\n",
    "    correct_prediction = np.sum(actual == predicted)\n",
    "    accuracy = correct_prediction / len(actual)\n",
    "    return accuracy"
   ]
  },
  {
   "cell_type": "markdown",
   "id": "fd21cb53-263e-40a1-9933-9b2ef3e127b4",
   "metadata": {},
   "source": [
    "3. Read the values from the .csv file and return the data as an array"
   ]
  },
  {
   "cell_type": "code",
   "execution_count": 28,
   "id": "9e7940fe-b366-400b-a22a-fd4925ceb3f9",
   "metadata": {},
   "outputs": [],
   "source": [
    "def read_data(filename):\n",
    "    df = pd.read_csv(r\"C:\\Users\\thefli0\\Downloads\\week1data\\week1data\\mushroom_data.csv\")\n",
    "    actual = df['actual'].values\n",
    "    predicted = df['predicted'].values\n",
    "    if not (np.all(np.isin(actual, ['e', 'p'])) and np.all(np.isin(predicted, ['e', 'p']))):\n",
    "        raise ValueError(\n",
    "          \"The actual and predicted values must only \"\n",
    "          \"contain binary values of 'e' or 'p'.\"\n",
    "        )\n",
    "    return actual, predicted"
   ]
  },
  {
   "cell_type": "markdown",
   "id": "15c68e15-97d3-4232-8c51-006cb80a9dbc",
   "metadata": {},
   "source": [
    "4. Define the file name and the values from the file"
   ]
  },
  {
   "cell_type": "code",
   "execution_count": 29,
   "id": "f829635d-5007-4241-a87d-90d98b8d86a9",
   "metadata": {},
   "outputs": [],
   "source": [
    "filename = 'mushroom_data.csv'\n",
    "actual_values, predicted_values = read_data(filename)"
   ]
  },
  {
   "cell_type": "markdown",
   "id": "03ca0e0c-2c46-43aa-a91d-a061f177a6a4",
   "metadata": {},
   "source": [
    "5. Finally, calculate the prediction accuracy based on the values read from the file and display the results. Truncate to the nearest two decimal points"
   ]
  },
  {
   "cell_type": "code",
   "execution_count": 30,
   "id": "b4922afb-4e46-458e-9743-f74549ba49dd",
   "metadata": {},
   "outputs": [
    {
     "name": "stdout",
     "output_type": "stream",
     "text": [
      "The prediction accuracy between these arrays is: 0.85\n"
     ]
    }
   ],
   "source": [
    "accuracy = calc_accuracy(actual_values, predicted_values)\n",
    "print(f\"The prediction accuracy between these arrays is: {accuracy:.2f}\")"
   ]
  },
  {
   "cell_type": "markdown",
   "id": "1239cc20-eeb0-4a29-bfc2-b68fe13f56d1",
   "metadata": {},
   "source": [
    "***"
   ]
  },
  {
   "cell_type": "markdown",
   "id": "cd07a199-75a2-4821-a5b0-187c7e06bfbd",
   "metadata": {},
   "source": [
    "## Graphing with Matplotlib"
   ]
  },
  {
   "cell_type": "markdown",
   "id": "c2b72d64-cd12-4295-bc73-7834964888fd",
   "metadata": {},
   "source": [
    "**4a. Use the Python package matplotlib to plot the following function:\n",
    "f(p) = 0.005p^6 - 0.27p^5 + 5.998p^4 - 69.919p^3 + 449.17p^2 - 1499.7p + 2028**"
   ]
  },
  {
   "cell_type": "markdown",
   "id": "d319f71b-d2e8-4a34-a075-ca9812ab69b4",
   "metadata": {},
   "source": [
    "1. Import the necessary packages"
   ]
  },
  {
   "cell_type": "code",
   "execution_count": 31,
   "id": "48209ea0-1bd8-41bf-b7e1-fbb10e5b0757",
   "metadata": {},
   "outputs": [],
   "source": [
    "import numpy as np\n",
    "import matplotlib.pyplot as plt"
   ]
  },
  {
   "cell_type": "markdown",
   "id": "a5970202-0b36-4e67-88ad-90b48aca3382",
   "metadata": {},
   "source": [
    "2. Define the function as above"
   ]
  },
  {
   "cell_type": "code",
   "execution_count": 32,
   "id": "3b10b724-9841-46fc-a4a7-a7cbde04a87c",
   "metadata": {},
   "outputs": [],
   "source": [
    "def f(p):\n",
    "    return 0.005 * p ** 6 - 0.27 * p ** 5 + 5.998 * p ** 4 - 69.919 * p ** 3 + 449.17 * p ** 2 - 1499.7 * p + 2028"
   ]
  },
  {
   "cell_type": "markdown",
   "id": "02f163ac-830d-46f8-93b4-df6798eb97ac",
   "metadata": {},
   "source": [
    "3. Generate the range of p values and calculate the values of f(p)"
   ]
  },
  {
   "cell_type": "code",
   "execution_count": 33,
   "id": "8caf261c-4318-46ec-929e-e72b568e7a38",
   "metadata": {},
   "outputs": [],
   "source": [
    "p = np.linspace(-50, 50, 400)\n",
    "fp = f(p)"
   ]
  },
  {
   "cell_type": "markdown",
   "id": "3d8c9777-7494-4e74-b992-72ff968467a3",
   "metadata": {},
   "source": [
    "4. Finally, plot the function using the matplotlib module"
   ]
  },
  {
   "cell_type": "code",
   "execution_count": 34,
   "id": "158d2208-9f7e-41e8-91d4-7da8db1841ea",
   "metadata": {},
   "outputs": [
    {
     "data": {
      "image/png": "[encoded data removed]",
      "text/plain": [
       "<Figure size 700x300 with 1 Axes>"
      ]
     },
     "metadata": {},
     "output_type": "display_data"
    }
   ],
   "source": [
    "plt.figure(figsize=(7, 3))\n",
    "plt.plot(p, fp, label='f(p)')\n",
    "plt.title('Plot of the Given Function')\n",
    "plt.xlabel('p')\n",
    "plt.ylabel('f(p)')\n",
    "plt.grid(True)\n",
    "plt.legend()\n",
    "plt.show()"
   ]
  },
  {
   "cell_type": "markdown",
   "id": "0493463b-4eb0-4c92-8415-f03a98d253fa",
   "metadata": {},
   "source": [
    "***"
   ]
  },
  {
   "cell_type": "markdown",
   "id": "911af96e-3cc3-404d-9571-691cc8cf2e8c",
   "metadata": {},
   "source": [
    "**4b. Use your graph to estimate the value of p that minimizes the error. Report your result.**"
   ]
  },
  {
   "cell_type": "markdown",
   "id": "fb16a699-b2fe-4f4b-badd-cc146a74b961",
   "metadata": {},
   "source": [
    "**4c. User your graph to estimate the minimum error. Report your results.**"
   ]
  },
  {
   "cell_type": "markdown",
   "id": "0568913d-f1fb-4c91-b20b-6e41a0b732e8",
   "metadata": {},
   "source": [
    "While there are other modules that can be used to estimate the above that are less computationally expensive, it is entirely possible to estimate these values through use of the \"pandas\" module. "
   ]
  },
  {
   "cell_type": "markdown",
   "id": "3cecb0e4-c7fb-4b1b-aa70-077c00364911",
   "metadata": {},
   "source": [
    "1. Import the necessary packages"
   ]
  },
  {
   "cell_type": "code",
   "execution_count": 35,
   "id": "75d61638-b786-48f3-aa95-1d9c3c5a6a97",
   "metadata": {},
   "outputs": [],
   "source": [
    "import numpy as np\n",
    "import matplotlib.pyplot as plt\n",
    "import pandas as pd"
   ]
  },
  {
   "cell_type": "markdown",
   "id": "4f4cf188-ac15-4b91-aadc-74cfec5d5b4a",
   "metadata": {},
   "source": [
    "2. Define the function as in the original question"
   ]
  },
  {
   "cell_type": "code",
   "execution_count": 36,
   "id": "183399a4-d6e8-4c51-b6f4-7c7c24d56d0e",
   "metadata": {},
   "outputs": [],
   "source": [
    "def f(p):\n",
    "  return 0.005 * p ** 6 - 0.27 * p ** 5 + 5.998 * p ** 4 - 69.919 * p ** 3 + 449.17 * p ** 2 - 1499.7 * p + 2028"
   ]
  },
  {
   "cell_type": "markdown",
   "id": "c4d798f6-7e4c-4bd9-9cd3-76fd42161c20",
   "metadata": {},
   "source": [
    "3. Generate the range of p values and define how those values relate to the function. This will provide more points for a finer search."
   ]
  },
  {
   "cell_type": "code",
   "execution_count": 37,
   "id": "90d4edcb-ff32-4fa6-b520-9484a96bfe9a",
   "metadata": {},
   "outputs": [],
   "source": [
    "p_values = np.linspace(-50, 50, 10000)\n",
    "f_values = f(p_values)"
   ]
  },
  {
   "cell_type": "markdown",
   "id": "45cc0c42-2b01-439e-b786-51d0414a097b",
   "metadata": {},
   "source": [
    "4. Create a dataframe using the pandas module."
   ]
  },
  {
   "cell_type": "code",
   "execution_count": 38,
   "id": "5a55e84e-072e-4644-97b0-40e6259d5cff",
   "metadata": {},
   "outputs": [],
   "source": [
    "df = pd.DataFrame({\n",
    "  'p': p_values,\n",
    "  'f(p)': f_values\n",
    "})"
   ]
  },
  {
   "cell_type": "markdown",
   "id": "ef0f3523-67b8-4991-8f30-a197b8b9327e",
   "metadata": {},
   "source": [
    "5. Using the .idxmin function from pandas, the following can be used to assist in finding the minimum error and corresponding p value."
   ]
  },
  {
   "cell_type": "code",
   "execution_count": 39,
   "id": "e19c6ada-ab9b-4f32-b0cb-ab0182b1a1f3",
   "metadata": {},
   "outputs": [],
   "source": [
    "min_row = df.loc[df['f(p)'].idxmin()]\n",
    "p_min = min_row['p']\n",
    "f_min = min_row['f(p)']"
   ]
  },
  {
   "cell_type": "markdown",
   "id": "74c3f692-fe40-4bf6-9048-3f8a6ea580c3",
   "metadata": {},
   "source": [
    "6. Plot the function using matplotlib"
   ]
  },
  {
   "cell_type": "code",
   "execution_count": 40,
   "id": "5ed0de99-3e83-441b-aa8a-a8a886a32bcb",
   "metadata": {},
   "outputs": [
    {
     "data": {
      "image/png": "[encoded data removed]",
      "text/plain": [
       "<Figure size 700x300 with 1 Axes>"
      ]
     },
     "metadata": {},
     "output_type": "display_data"
    }
   ],
   "source": [
    "plt.figure(figsize=(7,3))\n",
    "plt.plot(p_values, f_values, label='f(p)')\n",
    "plt.scatter(p_min, f_min, color='red', label=f'Minimum value at p={p_min:0.2f}, f(p)={f_min:0.2f}')\n",
    "plt.title('Plot of the Given Function with Minimum Point Information')\n",
    "plt.xlabel('p')\n",
    "plt.ylabel('f(p)')\n",
    "plt.grid(True)\n",
    "plt.legend()\n",
    "plt.show()"
   ]
  },
  {
   "cell_type": "markdown",
   "id": "5d30b72b-d162-456a-9cff-448b5e92b88c",
   "metadata": {},
   "source": [
    "7. While the information is presented above in the graph, an additional 'print' script can be written to display the information on the minimums to the user via a console interface below."
   ]
  },
  {
   "cell_type": "code",
   "execution_count": 41,
   "id": "80482d83-fc2e-4ef4-a283-c6d50513b7a5",
   "metadata": {},
   "outputs": [
    {
     "name": "stdout",
     "output_type": "stream",
     "text": [
      "The value of 'p' that minimizes 'f(p)' is 5.18 with a minimum error of 1.75\n"
     ]
    }
   ],
   "source": [
    "print(f\"The value of 'p' that minimizes 'f(p)' is {p_min:0.2f} with a minimum error of {f_min:0.2f}\")"
   ]
  }
 ],
 "metadata": {
  "kernelspec": {
   "display_name": "Python 3 (ipykernel)",
   "language": "python",
   "name": "python3"
  },
  "language_info": {
   "codemirror_mode": {
    "name": "ipython",
    "version": 3
   },
   "file_extension": ".py",
   "mimetype": "text/x-python",
   "name": "python",
   "nbconvert_exporter": "python",
   "pygments_lexer": "ipython3",
   "version": "3.11.7"
  }
 },
 "nbformat": 4,
 "nbformat_minor": 5
}
